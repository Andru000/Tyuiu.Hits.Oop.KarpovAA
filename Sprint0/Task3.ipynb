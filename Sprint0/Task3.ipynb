{
 "cells": [
  {
   "cell_type": "markdown",
   "metadata": {},
   "source": [
    "<h1 style=\"color:DodgerBlue\">Индивидальный проект</h1>"
   ]
  },
  {
   "cell_type": "markdown",
   "metadata": {},
   "source": [
    "<h2 style=\"color:DodgerBlue\">Название проекта:</h2>\n",
    "\n",
    "----\n",
    "\n",
    "### Вариант задания N8\n"
   ]
  },
  {
   "cell_type": "markdown",
   "metadata": {},
   "source": [
    "<h2 style=\"color:DodgerBlue\">Описание проекта:</h2>\n",
    "\n",
    "----\n",
    "\n",
    "Создать базовый класс CreditCard в C#, который будет представлять информацию\n",
    "о кредитных картах. На основе этого класса разработать 2-3 производных класса,\n",
    "демонстрирующих принципы наследования и полиморфизма. В каждом из классов\n",
    "должны быть реализованы новые атрибуты и методы, а также переопределены\n",
    "некоторые методы базового класса для демонстрации полиморфизма.\n",
    "\n",
    "Требования к базовому классу CreditCard:\n",
    "* Атрибуты: Номер карты (CardNumber), Холдера (HolderName), Срок\n",
    "действия (ExpiryDate).\n",
    "* Методы:\n",
    "\n",
    "o GetInfo(): метод для получения информации о кредитной карте в виде\n",
    "строки.\n",
    "\n",
    "o Pay(): метод для оплаты покупки с использованием карты.\n",
    "\n",
    "o CheckBalance(): метод для проверки баланса на карте.\n",
    "\n",
    "Требования к производным классам:\n",
    "1. GoldCard (GoldCreditCard): Должен содержать дополнительные атрибуты,\n",
    "такие как Бесплатные бонусные мили (BonusMiles). Метод Pay() должен быть\n",
    "переопределен для добавления информации о получении бонусных миль\n",
    "при оплате покупки.\n",
    "2. PremiumCard (PremiumCreditCard): Должен содержать дополнительные\n",
    "атрибуты, такие как Ассистент поддержки (SupportAssistant).\n",
    "Метод CheckBalance() должен быть переопределен для предоставления\n",
    "возможности обратиться за помощью к ассистенту поддержки в случае\n",
    "проблем с балансом.\n",
    "3. CorporateCard (CorporateCreditCard) (если требуется третий класс): Должен\n",
    "содержать дополнительные атрибуты, такие как Компания (Company).\n",
    "Метод GetInfo() должен быть переопределен для включения информации о\n",
    "компании в описании карты."
   ]
  },
  {
   "cell_type": "markdown",
   "metadata": {},
   "source": [
    "<h2 style=\"color:DodgerBlue\">Реализация:</h2>\n",
    "\n",
    "----"
   ]
  },
  {
   "cell_type": "code",
   "execution_count": 2,
   "metadata": {
    "dotnet_interactive": {
     "language": "csharp"
    },
    "polyglot_notebook": {
     "kernelName": "csharp"
    }
   },
   "outputs": [
    {
     "name": "stdout",
     "output_type": "stream",
     "text": [
      "Номер карты: 1234-5678-9012-3456, Холдер: Иванов Иван, Срок действия: 31.12.2025\n",
      "Оплачено 150,00 ¤ с помощью Иванов Иванкредитной карты.\n",
      "Заработанные 115 бонусные мили.\n",
      "\n",
      "Номер карты: 2345-6789-0123-4567, Холдер: Петров Петр, Срок действия: 30.11.2024\n",
      "Если у вас возникли какие-либо проблемы с вашим балансом, пожалуйста, свяжитесь со своим помощником по поддержке: Т-Банк\n",
      "\n",
      "Номер карты: 3456-7890-1234-5678, Холдер: Волков Алексей, Срок действия: 31.10.2023, Компания: ВТБ\n"
     ]
    }
   ],
   "source": [
    "public class CreditCard\n",
    "{\n",
    "    public string CardNumber { get; set; }\n",
    "    public string HolderName { get; set; }\n",
    "    public DateTime ExpiryDate { get; set; }\n",
    "\n",
    "    public CreditCard(string cardNumber, string holderName, DateTime expiryDate)\n",
    "    {\n",
    "        CardNumber = cardNumber;\n",
    "        HolderName = holderName;\n",
    "        ExpiryDate = expiryDate;\n",
    "    }\n",
    "\n",
    "    public virtual string GetInfo()\n",
    "    {\n",
    "        return $\"Номер карты: {CardNumber}, Холдер: {HolderName}, Срок действия: {ExpiryDate.ToShortDateString()}\";\n",
    "    }\n",
    "\n",
    "    public virtual void Pay(decimal amount)\n",
    "    {\n",
    "        Console.WriteLine($\"Оплачено {amount:C} с помощью {HolderName}кредитной карты.\");\n",
    "    }\n",
    "\n",
    "    public virtual decimal CheckBalance()\n",
    "    {\n",
    "        return 1000;\n",
    "    }\n",
    "}\n",
    "\n",
    "public class GoldCreditCard : CreditCard\n",
    "{\n",
    "    public int BonusMiles { get; set; }\n",
    "\n",
    "    public GoldCreditCard(string cardNumber, string holderName, DateTime expiryDate, int bonusMiles)\n",
    "        : base(cardNumber, holderName, expiryDate)\n",
    "    {\n",
    "        BonusMiles = bonusMiles;\n",
    "    }\n",
    "\n",
    "    public override void Pay(decimal amount)\n",
    "    {\n",
    "        base.Pay(amount);\n",
    "        BonusMiles += (int)(amount / 10);\n",
    "        Console.WriteLine($\"Заработанные {BonusMiles} бонусные мили.\");\n",
    "    }\n",
    "}\n",
    "\n",
    "public class PremiumCreditCard : CreditCard\n",
    "{\n",
    "    public string SupportAssistant { get; set; }\n",
    "\n",
    "    public PremiumCreditCard(string cardNumber, string holderName, DateTime expiryDate, string supportAssistant)\n",
    "        : base(cardNumber, holderName, expiryDate)\n",
    "    {\n",
    "        SupportAssistant = supportAssistant;\n",
    "    }\n",
    "\n",
    "    public override decimal CheckBalance()\n",
    "    {\n",
    "        decimal balance = base.CheckBalance();\n",
    "        Console.WriteLine($\"Если у вас возникли какие-либо проблемы с вашим балансом, пожалуйста, свяжитесь со своим помощником по поддержке: {SupportAssistant}\");\n",
    "        return balance;\n",
    "    }\n",
    "}\n",
    "\n",
    "public class CorporateCreditCard : CreditCard\n",
    "{\n",
    "    public string Company { get; set; }\n",
    "\n",
    "    public CorporateCreditCard(string cardNumber, string holderName, DateTime expiryDate, string company)\n",
    "        : base(cardNumber, holderName, expiryDate)\n",
    "    {\n",
    "        Company = company;\n",
    "    }\n",
    "\n",
    "    public override string GetInfo()\n",
    "    {\n",
    "        return base.GetInfo() + $\", Компания: {Company}\";\n",
    "    }\n",
    "}\n",
    "\n",
    "CreditCard goldCard = new GoldCreditCard(\"1234-5678-9012-3456\", \"Иванов Иван\", new DateTime(2025, 12, 31), 100);\n",
    "CreditCard premiumCard = new PremiumCreditCard(\"2345-6789-0123-4567\", \"Петров Петр\", new DateTime(2024, 11, 30), \"Т-Банк\");\n",
    "CreditCard corporateCard = new CorporateCreditCard(\"3456-7890-1234-5678\", \"Волков Алексей\", new DateTime(2023, 10, 31), \"ВТБ\");\n",
    "\n",
    "Console.WriteLine(goldCard.GetInfo());\n",
    "goldCard.Pay(150);\n",
    "Console.WriteLine();\n",
    "\n",
    "Console.WriteLine(premiumCard.GetInfo());\n",
    "premiumCard.CheckBalance();\n",
    "Console.WriteLine();\n",
    "\n",
    "Console.WriteLine(corporateCard.GetInfo());"
   ]
  }
 ],
 "metadata": {
  "kernelspec": {
   "display_name": ".NET (C#)",
   "language": "C#",
   "name": ".net-csharp"
  },
  "polyglot_notebook": {
   "kernelInfo": {
    "defaultKernelName": "csharp",
    "items": [
     {
      "aliases": [],
      "languageName": "csharp",
      "name": "csharp"
     }
    ]
   }
  }
 },
 "nbformat": 4,
 "nbformat_minor": 2
}
